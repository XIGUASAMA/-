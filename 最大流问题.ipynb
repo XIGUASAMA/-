{
 "cells": [
  {
   "cell_type": "code",
   "execution_count": 1,
   "metadata": {},
   "outputs": [],
   "source": [
    "import sys"
   ]
  },
  {
   "cell_type": "code",
   "execution_count": 2,
   "metadata": {},
   "outputs": [],
   "source": [
    "f=open(\"input.txt\", \"r\", encoding=\"utf-8-sig\")\n",
    "str_f=f.read()\n",
    "f.close()\n",
    "text=[]\n",
    "text=str_f.split(\"\\n\\n\")\n",
    "text[1] = text[1].replace(\"\\n\",\"\")\n",
    "print(text)"
   ]
  },
  {
   "cell_type": "code",
   "execution_count": 3,
   "metadata": {},
   "outputs": [
    {
     "name": "stdout",
     "output_type": "stream",
     "text": [
      "['vs', 'v1', 'v2', 'v3', 'v4', 'vt']\n",
      "[[-1, 5, 3, -1, -1, -1], [-1, -1, -1, 2, -1, -1], [-1, 1, -1, -1, 4, -1], [-1, -1, 1, -1, 3, 2], [-1, -1, -1, -1, -1, 5], [-1, -1, -1, -1, -1, -1]]\n"
     ]
    }
   ],
   "source": [
    "exec(text[0])\n",
    "exec(text[1])\n",
    "print(V)\n",
    "print(C)"
   ]
  },
  {
   "cell_type": "code",
   "execution_count": 4,
   "metadata": {},
   "outputs": [
    {
     "name": "stdout",
     "output_type": "stream",
     "text": [
      "{('vs', 'v1'): [5, 0], ('vs', 'v2'): [3, 0], ('v1', 'v3'): [2, 0], ('v2', 'v1'): [1, 0], ('v2', 'v4'): [4, 0], ('v3', 'v2'): [1, 0], ('v3', 'v4'): [3, 0], ('v3', 'vt'): [2, 0], ('v4', 'vt'): [5, 0]}\n"
     ]
    }
   ],
   "source": [
    "net_dict={}\n",
    "for i in range(0,len(C)):\n",
    "    for j in range(0,len(C[i])):\n",
    "        if C[i][j]>0:\n",
    "            net_dict[(V[i],V[j])] = [C[i][j],0]\n",
    "print(net_dict)"
   ]
  },
  {
   "cell_type": "code",
   "execution_count": 5,
   "metadata": {},
   "outputs": [
    {
     "name": "stdout",
     "output_type": "stream",
     "text": [
      "{'vs': ['-', inf], 'v1': [0, 0], 'v2': [0, 0], 'v3': [0, 0], 'v4': [0, 0], 'vt': [0, 0]}\n",
      "vs v1 inf 5 0 5\n",
      "vs v2 inf 3 0 3\n",
      "v1 v3 5 2 0 2\n",
      "v2 v4 3 4 0 3\n",
      "{'vs': ['-', inf], 'v1': ['vs+', 5], 'v2': ['vs+', 3], 'v3': ['v1+', 2], 'v4': ['v2+', 3], 'vt': ['v4+', 3]}\n",
      "{('vs', 'v1'): [5, 0], ('vs', 'v2'): [3, 3], ('v1', 'v3'): [2, 0], ('v2', 'v1'): [1, 0], ('v2', 'v4'): [4, 3], ('v3', 'v2'): [1, 0], ('v3', 'v4'): [3, 0], ('v3', 'vt'): [2, 0], ('v4', 'vt'): [5, 3]}\n",
      "*******************************************************************************\n",
      "{'vs': ['-', inf], 'v1': [0, 0], 'v2': [0, 0], 'v3': [0, 0], 'v4': [0, 0], 'vt': [0, 0]}\n",
      "vs v1 inf 5 0 5\n",
      "v1 v3 5 2 0 2\n",
      "v2 v4 0 4 3 0\n",
      "v3 v4 2 3 0 2\n",
      "{'vs': ['-', inf], 'v1': ['vs+', 5], 'v2': [0, 0], 'v3': ['v1+', 2], 'v4': ['v3+', 2], 'vt': ['v3+', 2]}\n",
      "{('vs', 'v1'): [5, 2], ('vs', 'v2'): [3, 3], ('v1', 'v3'): [2, 2], ('v2', 'v1'): [1, 0], ('v2', 'v4'): [4, 3], ('v3', 'v2'): [1, 0], ('v3', 'v4'): [3, 0], ('v3', 'vt'): [2, 2], ('v4', 'vt'): [5, 3]}\n",
      "*******************************************************************************\n",
      "{'vs': ['-', inf], 'v1': [0, 0], 'v2': [0, 0], 'v3': [0, 0], 'v4': [0, 0], 'vt': [0, 0]}\n",
      "vs v1 inf 5 2 3\n",
      "v2 v4 0 4 3 0\n",
      "v3 v4 0 3 0 0\n",
      "{'vs': ['-', inf], 'v1': ['vs+', 3], 'v2': [0, 0], 'v3': [0, 0], 'v4': ['v3+', 0], 'vt': [0, 0]}\n",
      "{('vs', 'v1'): [5, 2], ('vs', 'v2'): [3, 3], ('v1', 'v3'): [2, 2], ('v2', 'v1'): [1, 0], ('v2', 'v4'): [4, 3], ('v3', 'v2'): [1, 0], ('v3', 'v4'): [3, 0], ('v3', 'vt'): [2, 2], ('v4', 'vt'): [5, 3]}\n",
      "{'vs': ['-', inf], 'v1': ['vs+', 3], 'v2': [0, 0], 'v3': [0, 0], 'v4': ['v3+', 0], 'vt': [0, 0]}\n"
     ]
    }
   ],
   "source": [
    "while(1):\n",
    "    Tab_dict={}\n",
    "    for i in range(0,len(V)):\n",
    "        Tab_dict[V[i]] = [0,0]\n",
    "    Tab_dict['vs'][0] = '-'\n",
    "    Tab_dict['vs'][1] = float(\"inf\")\n",
    "    print(Tab_dict)\n",
    "    m = -1\n",
    "    temp_vt=[0,0]\n",
    "    for i in V:\n",
    "        m += 1\n",
    "        n = -1\n",
    "        for j in V:\n",
    "            n += 1\n",
    "            #print(i,j,m,n)\n",
    "            if (i,j) in list(net_dict.keys()) and j == V[-1]:\n",
    "                if min(Tab_dict[i][1],net_dict[(i,j)][0] - net_dict[(i,j)][1]) > temp_vt[1]:\n",
    "                    temp_vt[0] = V[m] + \"+\"\n",
    "                    temp_vt[1] = min(Tab_dict[i][1],net_dict[(i,j)][0] - net_dict[(i,j)][1])\n",
    "            elif (i,j) in list(net_dict.keys()) and net_dict[(i,j)][0] > net_dict[(i,j)][1] and Tab_dict[j][1] == 0 and m < n:\n",
    "                Tab_dict[j][0] = V[m] + \"+\"\n",
    "                Tab_dict[j][1] = min(Tab_dict[i][1],net_dict[(i,j)][0] - net_dict[(i,j)][1])\n",
    "                print(i,j,Tab_dict[i][1],net_dict[(i,j)][0],net_dict[(i,j)][1],Tab_dict[j][1])\n",
    "            elif (i,j) in list(net_dict.keys()) and net_dict[(i,j)][1] > 0 and Tab_dict[i][1] == 0 and m > n:\n",
    "                Tab_dict[i][0] = V[n] + \"-\"\n",
    "                Tab_dict[i][1] = min(Tab_dict[j][1],net_dict[(i,j)][1])\n",
    "    Tab_dict['vt'] = temp_vt\n",
    "    print(Tab_dict)\n",
    "    theta = Tab_dict['vt'][1]\n",
    "    \n",
    "    if Tab_dict['vt'] == [0,0]:\n",
    "        print(net_dict)\n",
    "        print(Tab_dict)\n",
    "        break\n",
    "\n",
    "    j = 'vt'\n",
    "    while(1):\n",
    "        i = Tab_dict[j][0][0:-1]\n",
    "        if Tab_dict[j][0][-1] == '+':\n",
    "            net_dict[(i,j)][1] += theta\n",
    "        elif Tab_dict[j][0][-1] == '-':\n",
    "            net_dict[(j,i)][1] -= theta\n",
    "        j = i\n",
    "        if(j == 'vs'):\n",
    "            break\n",
    "    print(net_dict)\n",
    "    print(\"*******************************************************************************\")"
   ]
  },
  {
   "cell_type": "code",
   "execution_count": 6,
   "metadata": {},
   "outputs": [
    {
     "name": "stdout",
     "output_type": "stream",
     "text": [
      "['vs', 'v1']\n",
      "('vs', 'v2')\n",
      "('v1', 'v3')\n",
      "5\n"
     ]
    }
   ],
   "source": [
    "f=open(\"output.txt\", \"w\", encoding=\"utf-8\")\n",
    "f.truncate()\n",
    "f.write(\"求解完成！\\n该网络的最小割：\")\n",
    "IN = []\n",
    "for i in V:\n",
    "    if (Tab_dict[i])[1] != 0:\n",
    "        IN.append(i)\n",
    "print(IN)\n",
    "\n",
    "summ = 0\n",
    "f.write(\"{\")\n",
    "for i in range(0,len(V)):\n",
    "    for j in range(0,len(V)):\n",
    "        #print(V[i],V[j])\n",
    "        if V[i] in IN and V[j] not in IN and i < j and (V[i],V[j]) in list(net_dict.keys()):\n",
    "            print((V[i],V[j]))\n",
    "            f.write(\"(\" + str(V[i]) + \",\" + str(V[j]) + \")\")\n",
    "            summ += net_dict[(V[i],V[j])][1]\n",
    "f.write(\"}\" + \"\\n\")\n",
    "\n",
    "print(summ)\n",
    "f.write(\"该网络的最大流流量和最小割容量：\" + str(summ))\n",
    "f.close()"
   ]
  }
 ],
 "metadata": {
  "kernelspec": {
   "display_name": "Python 3",
   "language": "python",
   "name": "python3"
  },
  "language_info": {
   "codemirror_mode": {
    "name": "ipython",
    "version": 3
   },
   "file_extension": ".py",
   "mimetype": "text/x-python",
   "name": "python",
   "nbconvert_exporter": "python",
   "pygments_lexer": "ipython3",
   "version": "3.7.3"
  }
 },
 "nbformat": 4,
 "nbformat_minor": 2
}
